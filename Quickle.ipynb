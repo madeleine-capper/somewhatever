{
 "cells": [
  {
   "cell_type": "code",
   "execution_count": null,
   "id": "70181561-857c-4f92-b965-e40a63d405f4",
   "metadata": {},
   "outputs": [],
   "source": [
    "# pickling can be used to save any object as it stands into a binary\n",
    "# file object.  in this way, you can capture an unsupervised (or supervised!)\n",
    "# model and deliver it out.  It can be used with any object type.\n",
    "# for instance, we can even use it with something as simple as an integer:"
   ]
  },
  {
   "cell_type": "code",
   "execution_count": 1,
   "id": "02abbdf2-9b12-40ef-8577-1c1e35c9aa1e",
   "metadata": {},
   "outputs": [],
   "source": [
    "# this should be included in anaconda\n",
    "import pickle"
   ]
  },
  {
   "cell_type": "code",
   "execution_count": 2,
   "id": "912f4afa-1e9c-4989-9d0d-97852d9edc4b",
   "metadata": {},
   "outputs": [],
   "source": [
    "# define some variable. (integer, dataframe, model, whatevs)\n",
    "somevar = 26"
   ]
  },
  {
   "cell_type": "code",
   "execution_count": null,
   "id": "43efdefa-9046-405a-ba94-d52bbdde9a27",
   "metadata": {},
   "outputs": [],
   "source": [
    "# to facilitate this process, here's a quick rundown of working with\n",
    "# files in python:\n",
    "# files need to be opened or closed as per memory allocation,\n",
    "# and also defined how they will be interacted with.\n",
    "\n",
    "# there is a more rudimentary way to do this, but I will give \n",
    "# you the breezier, more clean way to do it as follows:\n",
    "\n",
    "# with open('some_file.whatever', 'how_to_interact_withit') as myfile:\n",
    "#      ~do a thing with myfile~\n",
    "\n",
    "# 'wb' == write binary\n",
    "# 'rb' == read binary\n",
    "\n",
    "# 'w','r' are regular read and write, we need to specify binary to capture the \n",
    "# pickled binary of the objects"
   ]
  },
  {
   "cell_type": "code",
   "execution_count": 4,
   "id": "3c3181cd-6a70-428c-a468-8bd8de4e4f24",
   "metadata": {},
   "outputs": [],
   "source": [
    "# to save the binary of somevar:\n",
    "with open('myvar.sav', 'wb') as f:\n",
    "    pickle.dump(somevar, f)\n",
    "# .sav is an arbitrary extention. you could save \n",
    "# it as whatever you want."
   ]
  },
  {
   "cell_type": "code",
   "execution_count": null,
   "id": "f6652721-c968-4a0e-8a83-79d53f6229b4",
   "metadata": {},
   "outputs": [],
   "source": [
    "# basic pickle properties:\n",
    "# saving the thing\n",
    "# pickle.dump(thing_we_are_saving, file_we_save_it_to)\n",
    "# loading the thing\n",
    "# pickle.load()"
   ]
  },
  {
   "cell_type": "code",
   "execution_count": null,
   "id": "2983b432-b2ce-4761-9fce-841f9d11ee19",
   "metadata": {},
   "outputs": [],
   "source": [
    "# once the file is dumped, you can load it back up in any other notebook or script.\n",
    "# for instance if it was a model, you would not need to retrain it, and could merely boot it up\n",
    "# from your cached binary like so:"
   ]
  },
  {
   "cell_type": "code",
   "execution_count": 6,
   "id": "bec7d096-7196-40cf-8566-87d0389948c9",
   "metadata": {},
   "outputs": [],
   "source": [
    "with open('myvar.sav', 'rb') as f:\n",
    "    newvar = pickle.load(f)"
   ]
  },
  {
   "cell_type": "code",
   "execution_count": 7,
   "id": "d5e60d10-6a9b-4c07-ab03-dd208757357f",
   "metadata": {},
   "outputs": [
    {
     "data": {
      "text/plain": [
       "26"
      ]
     },
     "execution_count": 7,
     "metadata": {},
     "output_type": "execute_result"
    }
   ],
   "source": [
    "newvar"
   ]
  },
  {
   "cell_type": "code",
   "execution_count": null,
   "id": "973345eb-9841-4d6d-b6cc-81b84d32be59",
   "metadata": {},
   "outputs": [],
   "source": []
  }
 ],
 "metadata": {
  "kernelspec": {
   "display_name": "Python 3",
   "language": "python",
   "name": "python3"
  },
  "language_info": {
   "codemirror_mode": {
    "name": "ipython",
    "version": 3
   },
   "file_extension": ".py",
   "mimetype": "text/x-python",
   "name": "python",
   "nbconvert_exporter": "python",
   "pygments_lexer": "ipython3",
   "version": "3.9.4"
  }
 },
 "nbformat": 4,
 "nbformat_minor": 5
}
